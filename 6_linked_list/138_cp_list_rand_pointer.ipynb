{
 "cells": [
  {
   "cell_type": "code",
   "execution_count": null,
   "metadata": {},
   "outputs": [],
   "source": [
    "# link: https://leetcode.com/problems/copy-list-with-random-pointer/"
   ]
  },
  {
   "cell_type": "code",
   "execution_count": null,
   "metadata": {},
   "outputs": [],
   "source": [
    "\"\"\"\n",
    "# Definition for a Node.\n",
    "class Node:\n",
    "    def __init__(self, x: int, next: 'Node' = None, random: 'Node' = None):\n",
    "        self.val = int(x)\n",
    "        self.next = next\n",
    "        self.random = random\n",
    "\"\"\"\n",
    "\n",
    "class Solution:\n",
    "    def copyRandomList(self, head: 'Optional[Node]') -> 'Optional[Node]':\n",
    "        record = {None:None}\n",
    "        \n",
    "        cur = head\n",
    "        while cur:\n",
    "            record[cur] = Node(cur.val)\n",
    "            cur = cur.next\n",
    "        new_head = Node(0)\n",
    "        it = new_head\n",
    "        cur = head\n",
    "        while cur:\n",
    "            # print(cp.val)\n",
    "            cp = record[cur]\n",
    "            cp.next = record[cur.next]\n",
    "            cp.random = record[cur.random]\n",
    "            it.next = cp\n",
    "            it = it.next\n",
    "            cur = cur.next\n",
    "        return new_head.next\n",
    "    \n",
    "        # for each node in the original list, create a copy of it with same val\n",
    "        # then go over the list again, retrieve the copy from the dictionary\n",
    "        # and connect the copies together to build the new deep copy list"
   ]
  }
 ],
 "metadata": {
  "language_info": {
   "name": "python"
  }
 },
 "nbformat": 4,
 "nbformat_minor": 2
}
