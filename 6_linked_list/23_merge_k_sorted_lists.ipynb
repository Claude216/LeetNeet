{
 "cells": [
  {
   "cell_type": "code",
   "execution_count": null,
   "metadata": {},
   "outputs": [],
   "source": [
    "# https://leetcode.com/problems/merge-k-sorted-lists/"
   ]
  },
  {
   "cell_type": "code",
   "execution_count": null,
   "metadata": {},
   "outputs": [],
   "source": [
    "# Definition for singly-linked list.\n",
    "# class ListNode:\n",
    "#     def __init__(self, val=0, next=None):\n",
    "#         self.val = val\n",
    "#         self.next = next\n",
    "class Solution:\n",
    "    def mergeKLists(self, lists: List[Optional[ListNode]]) -> Optional[ListNode]:\n",
    "        # idea: think about the algo of merge sort\n",
    "        #   we can merge the lists two by two\n",
    "        \n",
    "        if len(lists) < 1:\n",
    "            return None\n",
    "        while len(lists) > 1:\n",
    "            l1 = lists.pop(0)\n",
    "            l2 = lists.pop(0)\n",
    "            lists.append(self.merge2Lists(l1, l2))\n",
    "        return lists[0]\n",
    "            \n",
    "    \n",
    "    def merge2Lists(self, l1, l2) -> Optional[ListNode]:\n",
    "        if l1 is None:\n",
    "            return l2\n",
    "        if l2 is None:\n",
    "            return l1\n",
    "        \n",
    "        # merge two list\n",
    "        temp = ListNode()\n",
    "        it = temp\n",
    "        # it1, it2 = l1, l2\n",
    "        while l1 and l2:\n",
    "            if l1.val <= l2.val:\n",
    "                it.next = l1\n",
    "                l1 = l1.next\n",
    "            else:\n",
    "                it.next = l2\n",
    "                l2 = l2.next\n",
    "            it = it.next\n",
    "        \n",
    "        if l1:\n",
    "            it.next = l1\n",
    "        else:\n",
    "            it.next = l2\n",
    "            \n",
    "        return temp.next\n",
    "    \n",
    "# time complexity: O(n * logm) where n is the length of a linked list, and m is the amount of linked lists\n",
    "# space complexity: O(n * logm)"
   ]
  }
 ],
 "metadata": {
  "language_info": {
   "name": "python"
  }
 },
 "nbformat": 4,
 "nbformat_minor": 2
}
