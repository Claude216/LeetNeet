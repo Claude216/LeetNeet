{
 "cells": [
  {
   "cell_type": "code",
   "execution_count": null,
   "metadata": {},
   "outputs": [],
   "source": [
    "# link: https://leetcode.com/problems/reorder-list/submissions/"
   ]
  },
  {
   "cell_type": "code",
   "execution_count": null,
   "metadata": {},
   "outputs": [],
   "source": [
    "# Definition for singly-linked list.\n",
    "# class ListNode:\n",
    "#     def __init__(self, val=0, next=None):\n",
    "#         self.val = val\n",
    "#         self.next = next\n",
    "class Solution:\n",
    "    def reorderList(self, head: Optional[ListNode]) -> None:\n",
    "        \"\"\"\n",
    "        Do not return anything, modify head in-place instead.\n",
    "        \"\"\"\n",
    "        \n",
    "        if not head or not head.next:\n",
    "            return \n",
    "        \n",
    "        fast, slow = head, head\n",
    "        \n",
    "        while fast and fast.next:\n",
    "            fast = fast.next.next\n",
    "            slow = slow.next\n",
    "            \n",
    "        # reverse second half\n",
    "        \n",
    "        prev = None\n",
    "        curr = slow\n",
    "        \n",
    "        while curr:\n",
    "            next = curr.next\n",
    "            curr.next = prev\n",
    "            prev = curr\n",
    "            curr = next\n",
    "        h1 = head\n",
    "        h2 = prev\n",
    "        \n",
    "        \n",
    "        # combine the two sub list\n",
    "        # remember to break the list at position of mid node in the list\n",
    "        # to break the cycle\n",
    "        # and make the next node of slow be None\n",
    "        while h2:\n",
    "            if h2 == slow:\n",
    "                h2.next = None\n",
    "                break\n",
    "            h1_nex = h1.next\n",
    "            h2_nex = h2.next\n",
    "            h1.next = h2\n",
    "            h2.next = h1_nex\n",
    "            \n",
    "            h1 = h1_nex\n",
    "            h2 = h2_nex\n",
    "        \n",
    "        return\n",
    "        "
   ]
  }
 ],
 "metadata": {
  "language_info": {
   "name": "python"
  }
 },
 "nbformat": 4,
 "nbformat_minor": 2
}
