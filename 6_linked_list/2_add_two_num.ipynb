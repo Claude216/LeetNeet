{
 "cells": [
  {
   "cell_type": "code",
   "execution_count": null,
   "metadata": {},
   "outputs": [],
   "source": [
    "# link: https://leetcode.com/problems/add-two-numbers/"
   ]
  },
  {
   "cell_type": "code",
   "execution_count": null,
   "metadata": {},
   "outputs": [],
   "source": [
    "# Definition for singly-linked list.\n",
    "class ListNode:\n",
    "    def __init__(self, val=0, next=None):\n",
    "        self.val = val\n",
    "        self.next = next\n",
    "class Solution:\n",
    "    def addTwoNumbers(self, l1: Optional[ListNode], l2: Optional[ListNode]) -> Optional[ListNode]:\n",
    "        dummyHead = ListNode(0)\n",
    "        curr = dummyHead\n",
    "        carry = 0\n",
    "        while l1 != None or l2 != None or carry != 0:\n",
    "            l1Val = l1.val if l1 else 0\n",
    "            l2Val = l2.val if l2 else 0\n",
    "            columnSum = l1Val + l2Val + carry\n",
    "            carry = columnSum // 10\n",
    "            newNode = ListNode(columnSum % 10)\n",
    "            curr.next = newNode\n",
    "            curr = newNode\n",
    "            l1 = l1.next if l1 else None\n",
    "            l2 = l2.next if l2 else None\n",
    "        return dummyHead.next\n",
    "                \n",
    "            "
   ]
  },
  {
   "cell_type": "code",
   "execution_count": null,
   "metadata": {},
   "outputs": [],
   "source": [
    "# nothing too much to say, it is really intuitive, \n",
    "# but try to learn the more elegant implementation \n",
    "# recorded here"
   ]
  }
 ],
 "metadata": {
  "language_info": {
   "name": "python"
  }
 },
 "nbformat": 4,
 "nbformat_minor": 2
}
