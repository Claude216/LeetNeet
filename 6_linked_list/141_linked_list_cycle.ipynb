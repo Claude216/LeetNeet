{
 "cells": [
  {
   "cell_type": "code",
   "execution_count": null,
   "metadata": {},
   "outputs": [],
   "source": [
    "# link https://leetcode.com/problems/linked-list-cycle/"
   ]
  },
  {
   "cell_type": "code",
   "execution_count": 6,
   "metadata": {},
   "outputs": [
    {
     "name": "stdout",
     "output_type": "stream",
     "text": [
      "0\n"
     ]
    }
   ],
   "source": [
    "print(1 >> 1)"
   ]
  },
  {
   "cell_type": "code",
   "execution_count": 7,
   "metadata": {},
   "outputs": [
    {
     "name": "stdout",
     "output_type": "stream",
     "text": [
      "0\n",
      "0\n",
      "1\n",
      "1\n",
      "1\n",
      "2\n",
      "2\n",
      "1\n",
      "1\n",
      "[0, 1, 1]\n"
     ]
    }
   ],
   "source": [
    "def countBits(n: int) -> list:\n",
    "        result = []\n",
    "        for i in range(n+1):\n",
    "            print(i)\n",
    "            num_of_ones = 0\n",
    "            temp_num = i\n",
    "            while temp_num != 0:\n",
    "                print(temp_num)\n",
    "                if temp_num % 2 != 0:\n",
    "                    num_of_ones += 1\n",
    "                temp_num = temp_num >> 1\n",
    "            result.append(num_of_ones)\n",
    "            print(num_of_ones)\n",
    "        return result\n",
    "input = 2\n",
    "\n",
    "print(countBits(input))"
   ]
  },
  {
   "cell_type": "code",
   "execution_count": null,
   "metadata": {},
   "outputs": [],
   "source": [
    "# Definition for singly-linked list.\n",
    "# class ListNode:\n",
    "#     def __init__(self, x):\n",
    "#         self.val = x\n",
    "#         self.next = None\n",
    "\n",
    "class Solution:\n",
    "    def hasCycle(self, head: Optional[ListNode]) -> bool:\n",
    "        # use fast/slow pointer to find the cycl\n",
    "        # when they meet each other, there is a cycle\n",
    "        \n",
    "        f, s = head, head\n",
    "        \n",
    "        while f and f.next:\n",
    "            f = f.next.next\n",
    "            s = s.next\n",
    "            \n",
    "            if f == s:\n",
    "                return True\n",
    "            \n",
    "        return False"
   ]
  }
 ],
 "metadata": {
  "kernelspec": {
   "display_name": "Python 3",
   "language": "python",
   "name": "python3"
  },
  "language_info": {
   "codemirror_mode": {
    "name": "ipython",
    "version": 3
   },
   "file_extension": ".py",
   "mimetype": "text/x-python",
   "name": "python",
   "nbconvert_exporter": "python",
   "pygments_lexer": "ipython3",
   "version": "3.11.3"
  }
 },
 "nbformat": 4,
 "nbformat_minor": 2
}
