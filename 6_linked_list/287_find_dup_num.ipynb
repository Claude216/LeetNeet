{
 "cells": [
  {
   "cell_type": "code",
   "execution_count": null,
   "metadata": {},
   "outputs": [],
   "source": [
    "# link: https://leetcode.com/problems/find-the-duplicate-number/"
   ]
  },
  {
   "cell_type": "code",
   "execution_count": null,
   "metadata": {},
   "outputs": [],
   "source": [
    "class Solution:\n",
    "    def findDuplicate(self, nums: List[int]) -> int:\n",
    "        # store the sum from 1 to n and then get the difference between the \n",
    "        # sum of the list (which has a length of n + 1)\n",
    "        # therefore, the difference must be the one not unique\n",
    "        # however, above idea won't work for this question as \n",
    "        # the duplicate number may appear more than twice\n",
    "        # while above solution only works when there is exactly one duplicate\n",
    "        \n",
    "        \n",
    "        # idea: remember it is an array here, but we can consider it as \n",
    "        # a list by seeing the integer value at each entry be the point to \n",
    "        # the next node\n",
    "        # for example, [1, 3, 4, 2, 2], list[0] = 1, means it point to list[1]\n",
    "        # by seeing the array in this way, we can treat it as a linked list\n",
    "        \n",
    "        # first, we just need to find two nodes that contain the same value\n",
    "        # and when it comes to compare two unknow nodes\n",
    "        # try fast-slow \n",
    "        \n",
    "        fast, slow = 0, 0\n",
    "        \n",
    "        while True:\n",
    "            fast = nums[nums[fast]]\n",
    "            slow = nums[slow]\n",
    "            # print(\"f:\", fast)\n",
    "            # print(\"s:\", slow)\n",
    "            if fast ==  slow:\n",
    "                # print(slow)\n",
    "                break\n",
    "                \n",
    "        # got two same means we probably find the one with duplicates\n",
    "        # but we might also find the one in the loop rather than the one\n",
    "        # with duplicate\n",
    "        \n",
    "        # so we use another iterator and make them iterate in the same speed\n",
    "        \n",
    "        # hold on, if fast meets slow, \n",
    "        # floyd's algo: \"fast and slow will always intersect at the node x, which will reach the loop start nodes after N nodes, while from the start node of the whole linked list, the distance between the 'whole start node' and the 'loop start node' is also N\"\n",
    "        # but till now, we can only sure there is a loop (there are duplicates of SOME value)\n",
    "        # and we want to know which exactly is the value (which is the \"loop start node\")\n",
    "        # therefore we need another iterator to go over with the same speed as slow to reach each other and return\n",
    "        slow2 = 0\n",
    "        while True:\n",
    "            slow = nums[slow]\n",
    "            slow2 = nums[slow2]\n",
    "            if slow == slow2:\n",
    "                # print(slow)\n",
    "                return slow\n",
    "        \n"
   ]
  }
 ],
 "metadata": {
  "language_info": {
   "name": "python"
  }
 },
 "nbformat": 4,
 "nbformat_minor": 2
}
