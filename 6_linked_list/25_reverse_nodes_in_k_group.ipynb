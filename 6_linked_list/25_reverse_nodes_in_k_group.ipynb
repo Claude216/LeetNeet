{
 "cells": [
  {
   "cell_type": "code",
   "execution_count": null,
   "metadata": {},
   "outputs": [],
   "source": [
    "# https://leetcode.com/problems/reverse-nodes-in-k-group/"
   ]
  },
  {
   "cell_type": "code",
   "execution_count": null,
   "metadata": {},
   "outputs": [],
   "source": [
    "# Definition for singly-linked list.\n",
    "# class ListNode:\n",
    "#     def __init__(self, val=0, next=None):\n",
    "#         self.val = val\n",
    "#         self.next = next\n",
    "class Solution:\n",
    "    def reverseKGroup(self, head: Optional[ListNode], k: int) -> Optional[ListNode]:\n",
    "     # idea: we can use a counter and a iterator to go over the list\n",
    "     # whenever we met a group of nodes, we reverse the group and remerge it to the whole list\n",
    "        \n",
    "        temp_head = ListNode()\n",
    "        temp_head.next = head\n",
    "        iter = head\n",
    "        prev = temp_head\n",
    "        group_head = None\n",
    "        counter = 0\n",
    "        while iter:\n",
    "            if counter == 0:\n",
    "                group_head = iter\n",
    "                \n",
    "            counter += 1\n",
    "            \n",
    "            if counter == k:\n",
    "                counter = 0\n",
    "                # record next node\n",
    "                next = iter.next\n",
    "                # break the list\n",
    "                iter.next = None\n",
    "                group_tail = group_head\n",
    "                group_head = self.reverse1Group(group_head)\n",
    "                \n",
    "                # connect the group back to the list\n",
    "                prev.next = group_head\n",
    "                group_tail.next = next\n",
    "                \n",
    "                # update the prev\n",
    "                prev = group_tail\n",
    "                iter = group_tail.next\n",
    "                continue\n",
    "            iter = iter.next\n",
    "                \n",
    "        \n",
    "        return temp_head.next\n",
    "                \n",
    "        \n",
    "    def reverse1Group(self, head: Optional[ListNode]):\n",
    "        prev = None\n",
    "        while head:\n",
    "            next = head.next\n",
    "            head.next = prev\n",
    "            prev = head\n",
    "            head = next\n",
    "        return prev\n",
    "        "
   ]
  }
 ],
 "metadata": {
  "language_info": {
   "name": "python"
  }
 },
 "nbformat": 4,
 "nbformat_minor": 2
}
