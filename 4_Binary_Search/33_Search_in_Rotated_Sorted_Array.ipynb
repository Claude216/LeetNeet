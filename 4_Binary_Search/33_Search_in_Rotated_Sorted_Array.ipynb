{
 "cells": [
  {
   "cell_type": "code",
   "execution_count": null,
   "metadata": {},
   "outputs": [],
   "source": [
    "# https://leetcode.com/problems/search-in-rotated-sorted-array/submissions/"
   ]
  },
  {
   "cell_type": "code",
   "execution_count": null,
   "metadata": {},
   "outputs": [],
   "source": [
    "class Solution:\n",
    "    def search(self, nums: List[int], target: int) -> int:\n",
    "        l, r = 0, len(nums) - 1\n",
    "        \n",
    "        \n",
    "        while l <= r:\n",
    "            mid = l + (r - l) // 2\n",
    "            if nums[mid] == target:\n",
    "                return mid\n",
    "            \n",
    "            if nums[l] <= nums[mid]: # l < m < pivot < r\n",
    "                if target > nums[mid] or target < nums[l]: \n",
    "                    # target in case a or case c below\n",
    "                    # thus target in [mid+1, r] or in [pivot, r]\n",
    "                    l = mid + 1\n",
    "                else:\n",
    "                    # go left side\n",
    "                    r = mid - 1\n",
    "            else: # l < pivot < m < r\n",
    "                if target < nums[mid] or target > nums[r]:\n",
    "                    # target in [pivot, m-1] or in [l, pivot-1]\n",
    "                    r = mid - 1\n",
    "                else:\n",
    "                    # go right side \n",
    "                    l = mid + 1\n",
    "       \n",
    "        return -1\n",
    "                    \n",
    "        # idea: think about this: if the array is not rotated\n",
    "        #      it is always in acsending order\n",
    "        # therefore, there are possible case as below:\n",
    "        # a. l > pivot < mid < r\n",
    "        # b. l > mid < r\n",
    "        # c. l < mid > pivot < r\n",
    "        # thus,\n",
    "        # i. when nums[l] <= nums[mid]:\n",
    "        #   1. if target > m, it must be in the [mid+1, r]\n",
    "        #      because: \n",
    "        #           if in case a: since l <= mid and pivot between mid and l (this one is impossible, as mid to r are increasing, and l should be >= r while r >= mid)\n",
    "        #           if in case b: it violate the condition i\n",
    "        #           if in case c: as pivot > mid, target > mid, mid > anything from [l, mid-1], thus we go [mid+1, r] to search for the result\n",
    "        #   2. if target <= m, it must be in the left side [l, mid-1]\n",
    "        #       becuase:\n",
    "        #           if in case a: any num from [mid+1, r] > mid, so we can only search in [l, mid-1]\n",
    "        #           if in case b: it violate the condition i\n",
    "        #           if in case c: "
   ]
  }
 ],
 "metadata": {
  "language_info": {
   "name": "python"
  }
 },
 "nbformat": 4,
 "nbformat_minor": 2
}
