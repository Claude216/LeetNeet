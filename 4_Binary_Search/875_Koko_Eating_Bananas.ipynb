{
 "cells": [
  {
   "cell_type": "code",
   "execution_count": null,
   "metadata": {},
   "outputs": [],
   "source": [
    "# link: https://leetcode.com/problems/koko-eating-bananas/"
   ]
  },
  {
   "cell_type": "code",
   "execution_count": null,
   "metadata": {},
   "outputs": [],
   "source": [
    "import math\n",
    "class Solution:\n",
    "    def minEatingSpeed(self, piles: List[int], h: int) -> int:\n",
    "        \n",
    "        # idea: the max speed (max value of banana per hour is the max pile in the piles)\n",
    "        # therefore the answer should be between 1 to max(piles)\n",
    "        # so we start from the mid value (max(piles) - 1) / 2\n",
    "        # if the mid value works, we search for less one (from the left side)\n",
    "        # if the mid value doesn't work, we search for larger one (from the right side)\n",
    "        # then it is a binary search\n",
    "        \n",
    "        # ceil() # Round a number upward to its nearest integer\n",
    "        r = max(piles)\n",
    "        l = math.ceil(len(piles) / h)\n",
    "        res = max(piles)\n",
    "        while l < r:\n",
    "            k = (l + r) // 2\n",
    "            total_time = 0\n",
    "            # use the for loop to calculate the total time it takes to\n",
    "            # eat all the banana piles \n",
    "            for p in piles:  \n",
    "                total_time += math.ceil(p / k)\n",
    "                \n",
    "            if total_time <= h: # if total_time less than h\n",
    "                res = min(k, res) # compare to the current minium k we have and update\n",
    "                r = k # search in left side of k for smaller value of k \n",
    "            else: # if total_time larger than h\n",
    "                # search in right side of k\n",
    "                l = k + 1\n",
    "        return res"
   ]
  }
 ],
 "metadata": {
  "language_info": {
   "name": "python"
  }
 },
 "nbformat": 4,
 "nbformat_minor": 2
}
