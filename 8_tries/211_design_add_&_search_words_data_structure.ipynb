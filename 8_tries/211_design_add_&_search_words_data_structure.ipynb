{
 "cells": [
  {
   "cell_type": "code",
   "execution_count": null,
   "metadata": {},
   "outputs": [],
   "source": [
    "# https://leetcode.com/problems/design-add-and-search-words-data-structure/"
   ]
  },
  {
   "cell_type": "code",
   "execution_count": null,
   "metadata": {},
   "outputs": [],
   "source": [
    "class TreeNode:\n",
    "    def __init__(self):\n",
    "        self.subs = {}\n",
    "        self.isWord = False\n",
    "\n",
    "class WordDictionary:\n",
    "\n",
    "    def __init__(self):\n",
    "        self.root = TreeNode()\n",
    "\n",
    "    def addWord(self, word: str) -> None:\n",
    "        curr = self.root\n",
    "        for c in word:\n",
    "            if c not in curr.subs.keys():\n",
    "                curr.subs[c] = TreeNode()\n",
    "            curr = curr.subs[c]\n",
    "        curr.isWord = True \n",
    "        # track the words, e.g., if we already have busy in our dict, \n",
    "        # but \"bus\" is not in the dict yet, when search for \"bus\" we should \n",
    "        # get a result of false. When there is a \"bus\" being inserted, \n",
    "        # we will set \"isWord\" to True and then we can return True when searching for \"bus\"\n",
    "\n",
    "    def search(self, word: str) -> bool:\n",
    "        def dfs(j, root):\n",
    "            for i in range(j, len(word)):\n",
    "                c = word[i]\n",
    "                if c == \".\": # if \".\" we will need to check every subs of this key\n",
    "                    for sub in root.subs.keys():\n",
    "                        if dfs(i+1, root.subs[sub]):\n",
    "                            return True\n",
    "                    return False\n",
    "                else:\n",
    "                    if c not in root.subs.keys():\n",
    "                        return False\n",
    "                    root = root.subs[c]\n",
    "            return root.isWord\n",
    "        return dfs(0, self.root)\n",
    "\n",
    "\n",
    "# Your WordDictionary object will be instantiated and called as such:\n",
    "# obj = WordDictionary()\n",
    "# obj.addWord(word)\n",
    "# param_2 = obj.search(word)"
   ]
  }
 ],
 "metadata": {
  "language_info": {
   "name": "python"
  }
 },
 "nbformat": 4,
 "nbformat_minor": 2
}
