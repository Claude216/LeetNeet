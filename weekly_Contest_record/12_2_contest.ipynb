{
 "cells": [
  {
   "cell_type": "markdown",
   "metadata": {},
   "source": [
    "Question1: 100144"
   ]
  },
  {
   "cell_type": "code",
   "execution_count": null,
   "metadata": {},
   "outputs": [],
   "source": [
    "# passed"
   ]
  },
  {
   "cell_type": "markdown",
   "metadata": {},
   "source": [
    "Question2: 100153"
   ]
  },
  {
   "cell_type": "code",
   "execution_count": null,
   "metadata": {},
   "outputs": [],
   "source": [
    "class Solution:\n",
    "    \n",
    "    # first we need to come out with a function to figure out whether a number can be obtained by current list of coins, here using dp to solve it.\n",
    "    # then use greedy algo if we cannot obtain a number with our current coin list, add the value to the list\n",
    "    def minimumAddedCoins(self, coins: List[int], target: int) -> int:\n",
    "        result = 0\n",
    "        for i in range(1, target+1):\n",
    "            if not self.canObtain(coins, i):\n",
    "                coins.append(i)\n",
    "                result += 1\n",
    "        return result\n",
    "        \n",
    "    def canObtain(self, curr_coins, curr_target) -> bool:\n",
    "#         dp = [[False] * (curr_target + 1) for _ in range(len(curr_coins)+1)]\n",
    "        \n",
    "#         # assign True to the base case\n",
    "#         for i in range(len(curr_coins) + 1):\n",
    "#             dp[i][0] = True\n",
    "#         for i in range(1, len(curr_coins) + 1):\n",
    "#             for j in range(1, curr_target+1):\n",
    "#                 if j >= curr_coins[i-1]: \n",
    "#                     dp[i][j] = dp[i-1][j] or dp[i-1][j-curr_coins[i-1]]\n",
    "#                 else:\n",
    "#                     dp[i][j] = dp[i-1][j]\n",
    "#         return dp[len(curr_coins)][curr_target]\n",
    "        # using this one above will exceed time limit\n",
    "\n",
    "\n",
    "        # below also exceeds the time limit\n",
    "        # def dp(i, curr_sum):\n",
    "        #     if curr_sum == curr_target:\n",
    "        #         return True\n",
    "        #     if i == len(curr_coins) or curr_sum > curr_target:\n",
    "        #         return False\n",
    "        #     return dp(i+1, curr_sum + curr_coins[i]) or dp(i+1, curr_sum)\n",
    "        # return dp(0, 0)"
   ]
  },
  {
   "cell_type": "markdown",
   "metadata": {},
   "source": [
    "Question 3: 100145"
   ]
  },
  {
   "cell_type": "code",
   "execution_count": null,
   "metadata": {},
   "outputs": [],
   "source": [
    "class Solution:\n",
    "    def countCompleteSubstrings(self, word: str, k: int) -> int:\n",
    "        result = 0\n",
    "        l, r = 0, 1\n",
    "        next_l = []\n",
    "        # for i in range(1, len(word)):\n",
    "        while l < r and next_l: \n",
    "            if len(word[l:r]) >= k:\n",
    "                if self.isComplete(word[l:r], k):\n",
    "                    # print(\"first half\", len(word[:i]))\n",
    "                    next_l += \n",
    "                    result += 1\n",
    "            if len(word[r:]) >= k:\n",
    "                if self.isComplete(word[r:], k):\n",
    "                    # print(\"later half\", word[i:], len(word[i:]))\n",
    "                    result += 1\n",
    "            \n",
    "        # if self.isComplete(word, k):\n",
    "        #     result += 1\n",
    "        return result\n",
    "        \n",
    "    def isComplete(self, subword, k) -> bool:\n",
    "        # each char appears exactly k times\n",
    "        if len(subword) % k != 0:\n",
    "            return False\n",
    "        \n",
    "        char_dict = {}\n",
    "        char_dict[subword[0]] = 1\n",
    "        for i in range(1, len(subword)):\n",
    "            if abs(ord(subword[i]) - ord(subword[i-1])) > 2:\n",
    "                print(\"larger than 2\")\n",
    "                return False # adjacent char have a difference larger than 2 from the alphabet\n",
    "            char_dict[subword[i]] = char_dict.get(subword[i], 0) + 1\n",
    "        \n",
    "        if k not in char_dict.values() or len(set(char_dict.values())) > 1:\n",
    "            # not every char appear exact k times\n",
    "            # print(\"oops\", subword, char_dict.values())\n",
    "            return False\n",
    "        \n",
    "        return True"
   ]
  }
 ],
 "metadata": {
  "language_info": {
   "name": "python"
  }
 },
 "nbformat": 4,
 "nbformat_minor": 2
}
