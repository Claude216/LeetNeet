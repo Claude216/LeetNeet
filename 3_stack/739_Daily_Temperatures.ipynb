{
 "cells": [
  {
   "cell_type": "markdown",
   "metadata": {},
   "source": [
    "LeetCode 739: Daily Temperatures\n",
    "https://leetcode.com/problems/daily-temperatures/\n",
    "\n",
    "\n",
    "Given an array of integers temperatures represents the daily temperatures, return an array answer such that answer[i] is the number of days you have to wait after the ith day to get a warmer temperature. If there is no future day for which this is possible, keep answer[i] == 0 instead."
   ]
  },
  {
   "cell_type": "markdown",
   "metadata": {},
   "source": [
    "Example 1:\n",
    "\n",
    "Input: temperatures = [73,74,75,71,69,72,76,73]\n",
    "\n",
    "Output: [1,1,4,2,1,1,0,0]\n",
    "\n",
    "Example 2:\n",
    "\n",
    "Input: temperatures = [30,40,50,60]\n",
    "\n",
    "Output: [1,1,1,0]\n",
    "\n",
    "Example 3:\n",
    "\n",
    "Input: temperatures = [30,60,90]\n",
    "\n",
    "Output: [1,1,0]"
   ]
  },
  {
   "cell_type": "markdown",
   "metadata": {},
   "source": [
    "Idea: the days to meet a higher temperature is just the difference between the indices. \n",
    "\n",
    "Therefore, when utilizing the stack, we don't only store the temperature values but also the indices of each entry in the temperatures list.\n",
    "\n",
    "Let's make it short: when nothing in stack or the incoming temp is less than or equal to the last one in the stack, we push the new entry to the stack (temp, index). If the incoming temp is higher than the last one in the stack, we pop until stack is empty or an entry in stack contains higher temp.\n",
    "While, poping, we assign the differences between indices as the value of days to meet a higher temp to the corresponding position in result."
   ]
  },
  {
   "cell_type": "code",
   "execution_count": null,
   "metadata": {},
   "outputs": [],
   "source": [
    "class Solution:\n",
    "    def dailyTemperatures(self, temperatures: List[int]) -> List[int]:\n",
    "        result = [0] * len(temperatures)\n",
    "        stack = []\n",
    "        \n",
    "        for i, t in enumerate(temperatures):\n",
    "            while stack and t > stack[-1][0]:\n",
    "                _, ind = stack.pop()\n",
    "                result[ind] = i - ind \n",
    "            stack.append([t, i])\n",
    "        return result"
   ]
  }
 ],
 "metadata": {
  "language_info": {
   "name": "python"
  },
  "orig_nbformat": 4
 },
 "nbformat": 4,
 "nbformat_minor": 2
}
