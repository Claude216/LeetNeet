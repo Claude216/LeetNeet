{
 "cells": [
  {
   "cell_type": "markdown",
   "metadata": {},
   "source": [
    "LeetCode 22: Generate Parentheses\n",
    "https://leetcode.com/problems/generate-parentheses/\n",
    "\n",
    "\n",
    "Given n pairs of parentheses, write a function to generate all combinations of well-formed parentheses."
   ]
  },
  {
   "cell_type": "markdown",
   "metadata": {},
   "source": [
    "Example 1:\n",
    "\n",
    "Input: n = 3\n",
    "\n",
    "Output: [\"((()))\",\"(()())\",\"(())()\",\"()(())\",\"()()()\"]\n",
    "\n",
    "\n",
    "Example 2:\n",
    "\n",
    "Input: n = 1\n",
    "\n",
    "Output: [\"()\"]\n",
    " \n",
    "\n",
    "Constraints:\n",
    "\n",
    "1 <= n <= 8"
   ]
  },
  {
   "cell_type": "markdown",
   "metadata": {},
   "source": [
    "Let's Start with n = 2 as example.\n",
    "\n",
    "\n",
    "the output should be like: \n",
    "[\"(())\", \"()()\"]\n",
    "\n",
    "Suppose before we have a stack to push the parentheses in to build the result.\n",
    "\n",
    "So the idea can be: when the number of \"(\" is less than \"n\" and the number of \")\" is less than \"(\", we can choose to add the \")\" to stack, which by the meantime, we can choose to not add it to the stack but add a new \"(\". \n",
    "\n",
    "However, when # of \"(\" is same as # of \")\", we will have to add a new \"(\" to the stack. \n",
    "\n",
    "e,g.,\n",
    "    [\"(\"]  --> [\"(\", \"(\"] or [\"(\", \")\"]\n",
    "\n",
    "\n",
    "then the base case (where we build a combination successfully and add it to the result list) is that:\n",
    "    # of \"(\" == # of \")\" == n"
   ]
  },
  {
   "cell_type": "code",
   "execution_count": null,
   "metadata": {},
   "outputs": [],
   "source": [
    "def generateParenthesis(self, n: int) -> list[str]:\n",
    "    res = []\n",
    "    stack = []\n",
    "\n",
    "    def backtrack(lN, rN):  # lN and rN are for count the number of \"(\" and \")\" in the stack\n",
    "        if lN == rN == n:\n",
    "            res.append(\"\".join(stack))\n",
    "            return\n",
    "\n",
    "        if lN < n:\n",
    "            stack.append(\"(\") # add the parenthesis to the stack\n",
    "            backtrack(lN+1, rN)\n",
    "            stack.pop() # remember to remove it from stack after trying the first case\n",
    "\n",
    "        if rN < lN:\n",
    "            stack.append(\")\")\n",
    "            backtrack(lN, rN+1)\n",
    "            stack.pop()\n",
    "\n",
    "    backtrack(0, 0)\n",
    "    return res\n",
    "        "
   ]
  },
  {
   "cell_type": "code",
   "execution_count": null,
   "metadata": {},
   "outputs": [],
   "source": [
    "( \n",
    "    (\n",
    "    )\n",
    "        (\n",
    "        )   \n",
    "            (\n",
    "            )\n",
    "                )\n",
    "\n",
    "((()))\n",
    "(())()\n",
    "()(())\n",
    "()()()"
   ]
  }
 ],
 "metadata": {
  "language_info": {
   "name": "python"
  },
  "orig_nbformat": 4
 },
 "nbformat": 4,
 "nbformat_minor": 2
}
