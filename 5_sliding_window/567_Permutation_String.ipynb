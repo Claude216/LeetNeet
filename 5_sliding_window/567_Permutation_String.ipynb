{
 "cells": [
  {
   "cell_type": "code",
   "execution_count": null,
   "metadata": {},
   "outputs": [],
   "source": [
    "# link: https://leetcode.com/problems/permutation-in-string/"
   ]
  },
  {
   "cell_type": "code",
   "execution_count": null,
   "metadata": {},
   "outputs": [],
   "source": [
    "class Solution:\n",
    "    def checkInclusion(self, s1: str, s2: str) -> bool:\n",
    "        if len(s1) > len(s2):\n",
    "            return False\n",
    "        s1_count, window_count = [0] * 26, [0] * 26\n",
    "        \n",
    "        for i in range(len(s1)):\n",
    "            s1_count[ord(s1[i]) - ord('a')] += 1\n",
    "            window_count[ord(s2[i]) - ord('a')] += 1\n",
    "            \n",
    "        matches = 0\n",
    "        \n",
    "        for i in range(26):\n",
    "            if s1_count[i] == window_count[i]:\n",
    "                matches += 1\n",
    "        \n",
    "        l = 0\n",
    "        for r in range(len(s1), len(s2)):\n",
    "            if matches == 26:\n",
    "                return True\n",
    "            \n",
    "            # if not a permutation\n",
    "            # move the window 1 step ahead\n",
    "            # also update the window_count\n",
    "            \n",
    "            # right side\n",
    "            index = ord(s2[r]) - ord('a')\n",
    "            window_count[index] += 1\n",
    "            if s1_count[index] == window_count[index]:\n",
    "                matches += 1\n",
    "            elif s1_count[index] + 1 == window_count[index]: # ensure it is our operation break the condition\n",
    "                matches -= 1\n",
    "            \n",
    "            # left side\n",
    "            index = ord(s2[l]) - ord('a')\n",
    "            window_count[index] -= 1\n",
    "            if s1_count[index] == window_count[index]:\n",
    "                matches += 1\n",
    "            elif s1_count[index] - 1 == window_count[index]:\n",
    "                matches -= 1\n",
    "            l += 1\n",
    "        \n",
    "        return matches == 26 # in case the window include the last char in the s2\n",
    "            \n",
    "            \n",
    "    # idea: keep a window with length len(s1) and slide from left to the right end of s2\n",
    "    # record the frequency of each unique char in the window on s2, \n",
    "    # once the word frequencies are the same as the word frequencies in s1, return Ture (we find a permutation of s1)\n",
    "    # otherwise return False."
   ]
  }
 ],
 "metadata": {
  "language_info": {
   "name": "python"
  }
 },
 "nbformat": 4,
 "nbformat_minor": 2
}
