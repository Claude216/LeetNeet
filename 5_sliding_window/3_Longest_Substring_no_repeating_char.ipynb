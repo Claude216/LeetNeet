{
 "cells": [
  {
   "cell_type": "code",
   "execution_count": null,
   "metadata": {},
   "outputs": [],
   "source": [
    "# link: https://leetcode.com/problems/longest-substring-without-repeating-characters/"
   ]
  },
  {
   "cell_type": "code",
   "execution_count": null,
   "metadata": {},
   "outputs": [],
   "source": [
    "class Solution:\n",
    "    def lengthOfLongestSubstring(self, s: str) -> int:\n",
    "        # use a set to record char appears in the picked string currently\n",
    "        uniques = set()\n",
    "        \n",
    "        l, r = 0, 0\n",
    "        res = 0\n",
    "        \n",
    "        for r in range(len(s)):\n",
    "            while s[r] in uniques and l < r: # if current s[r] in the uniques, remove from current l till s[r] not in the set\n",
    "                if s[l] in uniques:\n",
    "                    uniques.remove(s[l])\n",
    "                l += 1 \n",
    "            # once cleaned the repeat char from previous part, add to the set \n",
    "            uniques.add(s[r])\n",
    "            res = max(res, r - l + 1) # update result\n",
    "            \n",
    "        return res\n",
    "    # time complexity: O(n)   l from 0 to len(s) - 1, r from 0 to len(s) - 1\n",
    "    # memory complexity: O(n)   "
   ]
  }
 ],
 "metadata": {
  "language_info": {
   "name": "python"
  }
 },
 "nbformat": 4,
 "nbformat_minor": 2
}
