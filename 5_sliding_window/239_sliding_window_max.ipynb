{
 "cells": [
  {
   "cell_type": "code",
   "execution_count": null,
   "metadata": {},
   "outputs": [],
   "source": [
    "# link: https://leetcode.com/problems/sliding-window-maximum/"
   ]
  },
  {
   "cell_type": "code",
   "execution_count": null,
   "metadata": {},
   "outputs": [],
   "source": [
    "class Solution:\n",
    "    def maxSlidingWindow(self, nums: List[int], k: int) -> List[int]:\n",
    "        res = []\n",
    "        q = collections.deque()\n",
    "        l, r = 0, 0\n",
    "        while r <len(nums):\n",
    "            while q and nums[q[-1]] < nums[r]:\n",
    "                q.pop()\n",
    "                \n",
    "            q.append(r)\n",
    "            \n",
    "            if l > q[0]:\n",
    "                q.popleft()\n",
    "            \n",
    "            if (r + 1) >= k:\n",
    "                res.append(nums[q[0]])\n",
    "                l += 1\n",
    "            r += 1\n",
    "        return res\n",
    "        # idea:\n",
    "        # we don't want to use max() to find the max among the window\n",
    "        # and if current max is removed in the next window, we will need to get the new max again\n",
    "        # so we use a deque to record the values\n",
    "        \n",
    "        # we first go over all the k values \n",
    "        # once we find a value, let's say v that v > q[-1]\n",
    "        # we remove it, because it is larger than some of the values in front\n",
    "        # and once it become the largest value in the window,\n",
    "        # other value less than it but in front of it are no longer be in our consideration\n",
    "        \n",
    "        # and those value after v but less than it, we just append to the end of the queue\n",
    "        # once we need to pop the max, we pop it from the first poistion in the queue"
   ]
  }
 ],
 "metadata": {
  "language_info": {
   "name": "python"
  }
 },
 "nbformat": 4,
 "nbformat_minor": 2
}
