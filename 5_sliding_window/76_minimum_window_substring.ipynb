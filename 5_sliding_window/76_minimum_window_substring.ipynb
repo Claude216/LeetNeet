{
 "cells": [
  {
   "cell_type": "code",
   "execution_count": null,
   "metadata": {},
   "outputs": [],
   "source": [
    "# link: https://leetcode.com/problems/minimum-window-substring/"
   ]
  },
  {
   "cell_type": "code",
   "execution_count": null,
   "metadata": {},
   "outputs": [],
   "source": [
    "class Solution:\n",
    "    def minWindow(self, s: str, t: str) -> str:\n",
    "        m = len(s)\n",
    "        n = len(t)\n",
    "        if m < n:\n",
    "            return \"\"\n",
    "        \n",
    "        # let's record the chars in t \n",
    "        countT, window = {}, {}\n",
    "        res, resLen = [-1, -1], float('inf')\n",
    "        for c in t:\n",
    "            countT[c] = 1 + countT.get(c, 0)\n",
    "        have, need = 0, len(countT)\n",
    "        l = 0\n",
    "        for r in range(len(s)):\n",
    "            c = s[r]\n",
    "            window[c] = 1 + window.get(c, 0)\n",
    "        # the key is the have and need variable \n",
    "        # try to review this again in the future \n",
    "            \n",
    "            if c in countT and window[c] == countT[c]:\n",
    "                have += 1\n",
    "            while have == need:\n",
    "                # update our result\n",
    "                if (r - l + 1) < resLen:\n",
    "                    res = [l, r]\n",
    "                    resLen = r - l + 1\n",
    "                # pop from the left of window\n",
    "                window[s[l]] -= 1\n",
    "                if s[l] in countT and window[s[l]] < countT[s[l]]:\n",
    "                    have -= 1\n",
    "                l += 1 # shift by one\n",
    "        l, r = res\n",
    "        return s[l:r+1] if resLen != float(\"infinity\") else \"\""
   ]
  },
  {
   "cell_type": "code",
   "execution_count": null,
   "metadata": {},
   "outputs": [],
   "source": [
    "# please review in the future"
   ]
  }
 ],
 "metadata": {
  "language_info": {
   "name": "python"
  }
 },
 "nbformat": 4,
 "nbformat_minor": 2
}
