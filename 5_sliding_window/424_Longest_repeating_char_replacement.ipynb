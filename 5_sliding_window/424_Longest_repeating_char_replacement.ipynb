{
 "cells": [
  {
   "cell_type": "code",
   "execution_count": null,
   "metadata": {},
   "outputs": [],
   "source": [
    "# link: https://leetcode.com/problems/longest-repeating-character-replacement/"
   ]
  },
  {
   "cell_type": "code",
   "execution_count": null,
   "metadata": {},
   "outputs": [],
   "source": [
    "class Solution:\n",
    "    def characterReplacement(self, s: str, k: int) -> int:\n",
    "        count = {} # use a dict to record the frequency\n",
    "        res = 0\n",
    "        l = 0\n",
    "        maxf = 0 # use a variable to store the max frequency\n",
    "        for r in range(len(s)):\n",
    "            count[s[r]] = 1 + count.get(s[r], 0)\n",
    "            maxf = max(maxf, count[s[r]])\n",
    "            while (r-l+1) - maxf > k: # if current majority of substring is not the most frequent char, the difference between it and the total count of most frequenct char must be less than or equal to k\n",
    "                count[s[l]] -= 1 # otherwise, move the left pointer and remove the count from dict\n",
    "                l +=1\n",
    "            res = max(res, r - l + 1) # update result\n",
    "        return res"
   ]
  },
  {
   "cell_type": "code",
   "execution_count": null,
   "metadata": {},
   "outputs": [],
   "source": [
    "# review in the future please"
   ]
  }
 ],
 "metadata": {
  "language_info": {
   "name": "python"
  }
 },
 "nbformat": 4,
 "nbformat_minor": 2
}
