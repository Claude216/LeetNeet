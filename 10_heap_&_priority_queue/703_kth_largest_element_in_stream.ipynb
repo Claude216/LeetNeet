{
 "cells": [
  {
   "cell_type": "code",
   "execution_count": null,
   "metadata": {},
   "outputs": [],
   "source": [
    "# https://leetcode.com/problems/kth-largest-element-in-a-stream/"
   ]
  },
  {
   "cell_type": "code",
   "execution_count": null,
   "metadata": {},
   "outputs": [],
   "source": [
    "class KthLargest:\n",
    "\n",
    "    def __init__(self, k: int, nums: List[int]):\n",
    "        # we just need to keep a min heap with size of k nums\n",
    "        # so we have the number from the largest to the kth largest\n",
    "        # use a min heap to ensure the heap[0] is the smallest in the k numbers\n",
    "        \n",
    "        self.min_heap = []\n",
    "        heapq.heapify(self.min_heap)\n",
    "        self.k = k\n",
    "        \n",
    "        for num in nums:\n",
    "            heapq.heappush(self.min_heap, num)\n",
    "            if len(self.min_heap) > k: \n",
    "                heapq.heappop(self.min_heap)\n",
    "        \n",
    "        \n",
    "    def add(self, val: int) -> int:\n",
    "       \n",
    "        heapq.heappush(self.min_heap,val)\n",
    "            \n",
    "        if len(self.min_heap) > self.k:\n",
    "            heapq.heappop(self.min_heap)\n",
    "        \n",
    "       \n",
    "        return self.min_heap[0] \n",
    "        \n",
    "\n",
    "\n",
    "# Your KthLargest object will be instantiated and called as such:\n",
    "# obj = KthLargest(k, nums)\n",
    "# param_1 = obj.add(val)"
   ]
  }
 ],
 "metadata": {
  "language_info": {
   "name": "python"
  }
 },
 "nbformat": 4,
 "nbformat_minor": 2
}
