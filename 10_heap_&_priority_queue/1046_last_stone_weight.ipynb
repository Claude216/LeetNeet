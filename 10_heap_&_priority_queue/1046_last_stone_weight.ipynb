{
 "cells": [
  {
   "cell_type": "code",
   "execution_count": null,
   "metadata": {},
   "outputs": [],
   "source": [
    "# https://leetcode.com/problems/last-stone-weight/"
   ]
  },
  {
   "cell_type": "code",
   "execution_count": null,
   "metadata": {},
   "outputs": [],
   "source": [
    "class Solution:\n",
    "    def lastStoneWeight(self, stones: List[int]) -> int:\n",
    "        max_heap = [-s for s in stones] # O(n)\n",
    "        heapq.heapify(max_heap) # O(logn)\n",
    "        \n",
    "        # 1. insert stones into the heap\n",
    "        # for stone in stones:\n",
    "        #     heapq.heappush(max_heap, stone*(-1))\n",
    "        \n",
    "        while len(max_heap) > 1: # O(n)\n",
    "           \n",
    "            stone1 = heapq.heappop(max_heap)\n",
    "            stone2 = heapq.heappop(max_heap)\n",
    "            \n",
    "            new_weight = stone1 - stone2\n",
    "            \n",
    "            if new_weight != 0:\n",
    "                heapq.heappush(max_heap, new_weight) # O(logn)\n",
    "            \n",
    "        return 0 if not max_heap else max_heap[0]*(-1)\n",
    "#         heap = [-s for s in stones] # we can also insert first then heapify\n",
    "#         heapq.heapify(heap)\n",
    "        \n",
    "#         while len(heap) > 1:\n",
    "#             y = heapq.heappop(heap)\n",
    "#             x = heapq.heappop(heap)\n",
    "#             if x > y:\n",
    "#                 heapq.heappush(heap, y - x)\n",
    "        \n",
    "#         return -heap[0] if heap else 0"
   ]
  },
  {
   "cell_type": "code",
   "execution_count": null,
   "metadata": {},
   "outputs": [],
   "source": [
    "# idea: use a max heap to store the stones so we can always get the current \n",
    "# heaviest stone in O(1) time\n",
    "\n",
    "# time: O(n*logn)\n",
    "# space: O(n)"
   ]
  }
 ],
 "metadata": {
  "language_info": {
   "name": "python"
  }
 },
 "nbformat": 4,
 "nbformat_minor": 2
}
