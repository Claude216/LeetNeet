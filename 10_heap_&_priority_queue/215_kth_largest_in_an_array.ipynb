{
 "cells": [
  {
   "cell_type": "code",
   "execution_count": null,
   "metadata": {},
   "outputs": [],
   "source": [
    "# https://leetcode.com/problems/kth-largest-element-in-an-array/"
   ]
  },
  {
   "cell_type": "code",
   "execution_count": null,
   "metadata": {},
   "outputs": [],
   "source": [
    "class Solution:\n",
    "    def findKthLargest(self, nums: List[int], k: int) -> int:\n",
    "        heap = []\n",
    "        heapq.heapify(heap)\n",
    "        \n",
    "        for num in nums:\n",
    "            heapq.heappush(heap, num)\n",
    "            if len(heap) > k:\n",
    "                heapq.heappop(heap)\n",
    "        \n",
    "        return heap[0]\n",
    "    \n",
    "    # time: O(nlogn)\n",
    "    # space: O(k)"
   ]
  }
 ],
 "metadata": {
  "language_info": {
   "name": "python"
  }
 },
 "nbformat": 4,
 "nbformat_minor": 2
}
