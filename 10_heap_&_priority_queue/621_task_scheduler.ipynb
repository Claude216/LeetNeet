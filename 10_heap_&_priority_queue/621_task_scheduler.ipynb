{
 "cells": [
  {
   "cell_type": "code",
   "execution_count": null,
   "metadata": {},
   "outputs": [],
   "source": [
    "# https://leetcode.com/problems/task-scheduler/"
   ]
  },
  {
   "cell_type": "code",
   "execution_count": null,
   "metadata": {},
   "outputs": [],
   "source": [
    "class Solution:\n",
    "    def leastInterval(self, tasks: List[str], n: int) -> int:\n",
    "        count = Counter(tasks)\n",
    "        maxheap = [-c for c in count.values()] # push the frequency of tasks into the heap\n",
    "        heapq.heapify(maxheap)\n",
    "        q = deque()\n",
    "        # print(maxheap)\n",
    "        res = 0\n",
    "        while maxheap or q:\n",
    "            res += 1\n",
    "            if maxheap: \n",
    "                temp = 1 + heapq.heappop(maxheap)\n",
    "                if temp: # if not zero (temp is always <= 0)\n",
    "                    q.append([temp, res+n]) # append to the end of the queue (lower priority) \n",
    "                                            # consider the res as a time stamp\n",
    "                                            # the res + n is the next closest time stamp when\n",
    "                                            # we can execute the task again (we don't really care the name of the task)\n",
    "            else:  # if max heap is empty means everything now in the queue\n",
    "                res = q[0][1] # jump to the timestamp where the next highest task can be executed\n",
    "        \n",
    "            if q and q[0][1] == res:\n",
    "                heapq.heappush(maxheap, q.popleft()[0]) # push a temp to back to the maxheap (notice the line of code: temp = 1 + heapq.heappop(maxheap), we updated temp value here or decrease the count of task execution time by 1, so now we just push it back, and\n",
    "                                                        # by using maxheap, we give tasks which will be executed more higher priorities by default.)\n",
    "        # print(count)\n",
    "        \n",
    "        return res"
   ]
  },
  {
   "cell_type": "code",
   "execution_count": null,
   "metadata": {},
   "outputs": [],
   "source": [
    "# time: O(mlogk)\n",
    "# space: O(k)  \n",
    "\n",
    "# m is the length of tasks\n",
    "# k is the number of unique tasks"
   ]
  }
 ],
 "metadata": {
  "language_info": {
   "name": "python"
  }
 },
 "nbformat": 4,
 "nbformat_minor": 2
}
