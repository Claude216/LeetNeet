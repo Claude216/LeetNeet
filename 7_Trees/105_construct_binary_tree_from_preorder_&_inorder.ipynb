{
 "cells": [
  {
   "cell_type": "code",
   "execution_count": null,
   "metadata": {},
   "outputs": [],
   "source": [
    "# link: https://leetcode.com/problems/construct-binary-tree-from-preorder-and-inorder-traversal/"
   ]
  },
  {
   "cell_type": "code",
   "execution_count": null,
   "metadata": {},
   "outputs": [],
   "source": [
    "# Definition for a binary tree node.\n",
    "# class TreeNode:\n",
    "#     def __init__(self, val=0, left=None, right=None):\n",
    "#         self.val = val\n",
    "#         self.left = left\n",
    "#         self.right = right\n",
    "class Solution:\n",
    "    def buildTree(self, preorder: List[int], inorder: List[int]) -> Optional[TreeNode]:\n",
    "        # idea: the outline is using the preorder list to build the whole tree while the inorder to help support\n",
    "        #   first we pick the first element in preorder as current root\n",
    "        #   second we find the index of this element in the \"inorder\" list\n",
    "        # we will utilize the property that: in the inorder list, the part that \"in front of\" an element(node) is always in the left side of the node, which means if we know the position of first entry of \"preorder\" in the \"inorder\" list, then we know that everything in \"inorder\" in front of this position is the left side (NOT left children)\n",
    "        # then in the \"preorder\", since the left side is always in front of the right side, knowing the \"mid position\" means we can also now separate the \"left\" (including left side and current node) and the \"right\" (right side of the node)\n",
    "        # knowing above info, we just need to pass the slices of the list in next recursions to make sure that the parts we get are only the children parts\n",
    "        \n",
    "        if not preorder or not inorder:\n",
    "            return None\n",
    "        \n",
    "        root = TreeNode(preorder[0])\n",
    "        mid = inorder.index(preorder[0]) # get the mid position of preorder[0] in inorder\n",
    "        \n",
    "        root.left = self.buildTree(\n",
    "            preorder[1:mid+1], # locate the left part and exlude current node and right part (preorder[0] is current node while preorder[mid+1:] includes the right part of the node)\n",
    "            inorder[:mid] # since inorder[mid] is current node, inorder[:mid] will contains only the left part of the node\n",
    "        )\n",
    "        \n",
    "        root.right = self.buildTree(\n",
    "            preorder[mid+1:],\n",
    "            inorder[mid+1:]\n",
    "        )\n",
    "        return root "
   ]
  }
 ],
 "metadata": {
  "language_info": {
   "name": "python"
  }
 },
 "nbformat": 4,
 "nbformat_minor": 2
}
