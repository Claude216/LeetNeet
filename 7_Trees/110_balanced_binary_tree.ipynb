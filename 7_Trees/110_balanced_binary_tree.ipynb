{
 "cells": [
  {
   "cell_type": "code",
   "execution_count": null,
   "metadata": {},
   "outputs": [],
   "source": [
    "# https://leetcode.com/problems/balanced-binary-tree/"
   ]
  },
  {
   "cell_type": "code",
   "execution_count": null,
   "metadata": {},
   "outputs": [],
   "source": [
    "# Definition for a binary tree node.\n",
    "# class TreeNode:\n",
    "#     def __init__(self, val=0, left=None, right=None):\n",
    "#         self.val = val\n",
    "#         self.left = left\n",
    "#         self.right = right\n",
    "class Solution:\n",
    "    def isBalanced(self, root: Optional[TreeNode]) -> bool:\n",
    "        balance, _ = self.isSubBalanced(root)\n",
    "        return balance\n",
    "        \n",
    "    def isSubBalanced(self, node):\n",
    "        if not node:\n",
    "            return True, 0\n",
    "        left_balance, left_height = self.isSubBalanced(node.left)\n",
    "        right_balance, right_height = self.isSubBalanced(node.right)\n",
    "        \n",
    "        node_height = max(left_height, right_height) + 1\n",
    "        \n",
    "        node_balance = left_balance and right_balance and (abs(left_height - right_height) < 2)\n",
    "        # if not node_balance:\n",
    "            # print(node.val)\n",
    "        return node_balance, node_height\n",
    "    \n",
    "    # idea: use a helper func to track the height/depth of both left and right tree and the balance property of them at the same time"
   ]
  }
 ],
 "metadata": {
  "language_info": {
   "name": "python"
  }
 },
 "nbformat": 4,
 "nbformat_minor": 2
}
