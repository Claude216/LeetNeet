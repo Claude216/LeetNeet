{
 "cells": [
  {
   "cell_type": "code",
   "execution_count": null,
   "metadata": {},
   "outputs": [],
   "source": [
    "# https://leetcode.com/problems/kth-smallest-element-in-a-bst/"
   ]
  },
  {
   "cell_type": "code",
   "execution_count": null,
   "metadata": {},
   "outputs": [],
   "source": [
    "# Definition for a binary tree node.\n",
    "# class TreeNode:\n",
    "#     def __init__(self, val=0, left=None, right=None):\n",
    "#         self.val = val\n",
    "#         self.left = left\n",
    "#         self.right = right\n",
    "class Solution:\n",
    "    def kthSmallest(self, root: Optional[TreeNode], k: int) -> int:\n",
    "        stack = []\n",
    "        curr = root\n",
    "        \n",
    "        while curr or stack:\n",
    "            while curr:\n",
    "                stack.append(curr)\n",
    "                curr = curr.left\n",
    "            curr = stack.pop() # this will pop the lowest node in the stack \n",
    "            k -= 1\n",
    "            if k ==0:\n",
    "                return curr.val\n",
    "            curr = curr.right # the highest node will be last popped and then we go to check the right branch\n",
    "            \n",
    "        \n",
    "        # idea: use a stack to store the left side nodes\n",
    "        #       and pop them one by one, while popping, decrease the k by 1 to count\n",
    "        #       then, if k decreases to 0, we stop there and return the 0\n",
    "        #       otherwise, go to check the right branch:\n",
    "        #           since we are using a stack, we will get the highest node in the left side the last pop\n",
    "        #           thus we can then easily go to right branch"
   ]
  }
 ],
 "metadata": {
  "language_info": {
   "name": "python"
  }
 },
 "nbformat": 4,
 "nbformat_minor": 2
}
