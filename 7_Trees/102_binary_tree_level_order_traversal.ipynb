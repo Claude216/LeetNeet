{
 "cells": [
  {
   "cell_type": "code",
   "execution_count": null,
   "metadata": {},
   "outputs": [],
   "source": [
    "# https://leetcode.com/problems/binary-tree-level-order-traversal/"
   ]
  },
  {
   "cell_type": "code",
   "execution_count": null,
   "metadata": {},
   "outputs": [],
   "source": [
    "# # Definition for a binary tree node.\n",
    "# class TreeNode:\n",
    "#     def __init__(self, val=0, left=None, right=None):\n",
    "#         self.val = val\n",
    "#         self.left = left\n",
    "#         self.right = right\n",
    "class Solution:\n",
    "    def levelOrder(self, root: Optional[TreeNode]) -> List[List[int]]:\n",
    "        # idea: use a queue to complete the traversal to make sure we can view different nodes in \"level order\"\n",
    "\n",
    "        \n",
    "        #         if not root:\n",
    "        #             return []\n",
    "        #         result = []\n",
    "                \n",
    "        #         queue1 = []\n",
    "        #         # queue2 = []\n",
    "        #         level = []\n",
    "        #         queue1.append(root)\n",
    "                \n",
    "        #         iter = root\n",
    "                \n",
    "        #         while queue1:\n",
    "        #             node = queue1.pop(0)\n",
    "        #             level.append(node.val)\n",
    "        #             if node.left:\n",
    "        #                 queue2.append(node.left)\n",
    "        #             if node.right:\n",
    "        #                 queue2.append(node.right)\n",
    "        #             if not queue1:\n",
    "        #                 result.append(level)\n",
    "        #                 level = []\n",
    "        #                 queue1 = queue2\n",
    "        #                 queue2 = []\n",
    "                \n",
    "        #         return result\n",
    "\n",
    "        result = []\n",
    "        q = collections.deque()\n",
    "        if root:\n",
    "            q.append(root)\n",
    "            \n",
    "        while q:\n",
    "            val = []\n",
    "            for i in range(len(q)):\n",
    "                node = q.popleft()\n",
    "                val.append(node.val)\n",
    "                if node.left:\n",
    "                    q.append(node.left)\n",
    "                if node.right:\n",
    "                    q.append(node.right)\n",
    "                    \n",
    "            result.append(val)\n",
    "        return result\n",
    "    \n",
    "    # idea below one: using the length of q to track the \"level\" of nodes in processing "
   ]
  }
 ],
 "metadata": {
  "language_info": {
   "name": "python"
  }
 },
 "nbformat": 4,
 "nbformat_minor": 2
}
