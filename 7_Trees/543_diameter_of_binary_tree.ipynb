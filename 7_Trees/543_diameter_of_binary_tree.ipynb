{
 "cells": [
  {
   "cell_type": "code",
   "execution_count": null,
   "metadata": {},
   "outputs": [],
   "source": [
    "# https://leetcode.com/problems/diameter-of-binary-tree/"
   ]
  },
  {
   "cell_type": "code",
   "execution_count": null,
   "metadata": {},
   "outputs": [],
   "source": [
    "# Definition for a binary tree node.\n",
    "# class TreeNode:\n",
    "#     def __init__(self, val=0, left=None, right=None):\n",
    "#         self.val = val\n",
    "#         self.left = left\n",
    "#         self.right = right\n",
    "class Solution:\n",
    "    def diameterOfBinaryTree(self, root: Optional[TreeNode]) -> int:\n",
    "        longest_dia =[0]\n",
    "        def dfs(node):\n",
    "            # nonlocal longest_dia\n",
    "            if not node:\n",
    "                return 0\n",
    "            left_depth = dfs(node.left)\n",
    "            right_depth = dfs(node.right)\n",
    "            \n",
    "            sub_diameter = left_depth + right_depth\n",
    "            # print(sub_diameter)\n",
    "            longest_dia[0] = max(longest_dia[0], sub_diameter)\n",
    "            \n",
    "            return 1 + max(left_depth, right_depth)\n",
    "        dfs(root)\n",
    "        return longest_dia[0]\n",
    "\n",
    "    # idea: use a global variable to record the current longest diameter and make the helper func to return the longest sub path of a node (left or right)\n",
    "    #   use \"nonlocal\" or a list to store the value to make it \"global\"\n",
    "            \n",
    "        "
   ]
  }
 ],
 "metadata": {
  "language_info": {
   "name": "python"
  }
 },
 "nbformat": 4,
 "nbformat_minor": 2
}
