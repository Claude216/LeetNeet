{
 "cells": [
  {
   "cell_type": "code",
   "execution_count": null,
   "metadata": {},
   "outputs": [],
   "source": [
    "# https://leetcode.com/problems/subtree-of-another-tree/"
   ]
  },
  {
   "cell_type": "code",
   "execution_count": null,
   "metadata": {},
   "outputs": [],
   "source": [
    "# Definition for a binary tree node.\n",
    "# class TreeNode:\n",
    "#     def __init__(self, val=0, left=None, right=None):\n",
    "#         self.val = val\n",
    "#         self.left = left\n",
    "#         self.right = right\n",
    "class Solution:\n",
    "    def isSubtree(self, root: Optional[TreeNode], subRoot: Optional[TreeNode]) -> bool:\n",
    "        if not subRoot:\n",
    "            return True\n",
    "        if not root:\n",
    "            return False\n",
    "        if self.isSame(root, subRoot):\n",
    "            return True\n",
    "        \n",
    "        return self.isSubtree(root.left, subRoot) or self.isSubtree(root.right, subRoot)\n",
    "    \n",
    "    \n",
    "    def isSame(self, root1, root2):\n",
    "        if not root1 and not root2:\n",
    "            return True\n",
    "        \n",
    "        if root1 and root2 and root1.val == root2.val:\n",
    "            return self.isSame(root1.left, root2.left) and self.isSame(root1.right, root2.right)\n",
    "        \n",
    "        return False\n",
    "    \n",
    "    \n",
    "# idea: dont try to find a specific root match the subroot in the main tree\n",
    "# just to this check at every node, it is not that complicated."
   ]
  }
 ],
 "metadata": {
  "language_info": {
   "name": "python"
  }
 },
 "nbformat": 4,
 "nbformat_minor": 2
}
