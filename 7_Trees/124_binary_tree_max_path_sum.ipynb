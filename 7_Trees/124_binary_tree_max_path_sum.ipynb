{
 "cells": [
  {
   "cell_type": "code",
   "execution_count": null,
   "metadata": {},
   "outputs": [],
   "source": [
    "# https://leetcode.com/problems/binary-tree-maximum-path-sum/"
   ]
  },
  {
   "cell_type": "code",
   "execution_count": null,
   "metadata": {},
   "outputs": [],
   "source": [
    "# Definition for a binary tree node.\n",
    "# class TreeNode:\n",
    "#     def __init__(self, val=0, left=None, right=None):\n",
    "#         self.val = val\n",
    "#         self.left = left\n",
    "#         self.right = right\n",
    "class Solution:\n",
    "    def maxPathSum(self, root: Optional[TreeNode]) -> int:\n",
    "        # idea: use a global variable to record the max path sum during the process\n",
    "        # for each node, record the path sum of both left and right side, then calculate the path sum: left_sum + node_val + right_sum \n",
    "        # update the max_path_sum if larger than it\n",
    "        # if not, return node_val + max(right_sum, left_sum) and part_path_sum of this node and return to its parent node\n",
    "        \n",
    "        \n",
    "        max_path_sum = float('-inf')\n",
    "        \n",
    "        def dfs(node):\n",
    "            if not node:\n",
    "                return 0\n",
    "            \n",
    "            nonlocal max_path_sum\n",
    "            \n",
    "            left_part_sum = dfs(node.left)\n",
    "            right_part_sum = dfs(node.right)\n",
    "            \n",
    "            left_part_sum = 0 if left_part_sum < 0 else left_part_sum # if the part is less than zero, we can choose not use this part of path\n",
    "            right_part_sum = 0 if right_part_sum < 0 else right_part_sum # kind of greedy?\n",
    "            \n",
    "            curr_path_sum = left_part_sum + right_part_sum + node.val\n",
    "            \n",
    "            if curr_path_sum > max_path_sum:\n",
    "                max_path_sum = curr_path_sum\n",
    "                \n",
    "            return node.val + max(left_part_sum, right_part_sum)\n",
    "        \n",
    "        dfs(root)\n",
    "        return max_path_sum"
   ]
  }
 ],
 "metadata": {
  "language_info": {
   "name": "python"
  }
 },
 "nbformat": 4,
 "nbformat_minor": 2
}
