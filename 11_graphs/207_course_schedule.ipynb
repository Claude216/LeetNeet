{
 "cells": [
  {
   "cell_type": "code",
   "execution_count": null,
   "metadata": {},
   "outputs": [],
   "source": [
    "# https://leetcode.com/problems/course-schedule/"
   ]
  },
  {
   "cell_type": "code",
   "execution_count": null,
   "metadata": {},
   "outputs": [],
   "source": [
    "class Solution:\n",
    "    def canFinish(self, numCourses: int, prerequisites: List[List[int]]) -> bool:\n",
    "        preq = {i:[] for i in range(numCourses)}\n",
    "        \n",
    "        for course, prereq in prerequisites:\n",
    "            preq[course].append(prereq)\n",
    "            \n",
    "        visited = set()\n",
    "        \n",
    "        def dfs(i):\n",
    "            if i in visited:\n",
    "                return False # we've visited this course before in the current dfs path, that means there is a cycle\n",
    "            \n",
    "            if preq[i] == []:\n",
    "                return True # we can complete the prerequisites of this course as it has none\n",
    "            \n",
    "            visited.add(i) # add this course to visited set\n",
    "            \n",
    "            for prereq in preq[i]: # for each of its prerequisites:\n",
    "                if not dfs(prereq):\n",
    "                    return False # if meet some courses we have met before, return False (a cycle here, ===> impossible to finish all the courses)          \n",
    "            visited.remove(i) # if everything looks good, we can remove it from the visited set as we've FINISHED visiting it\n",
    "            preq[i] = [] # everything after this course can be completed, so we can set it to empty list to save the time and memory in the future, otherwise it will exceed the time limitation\n",
    "            return True\n",
    "        \n",
    "        \n",
    "        for i in range(numCourses):\n",
    "            if not dfs(i):\n",
    "                return False\n",
    "            \n",
    "        return True\n",
    "        "
   ]
  },
  {
   "cell_type": "code",
   "execution_count": null,
   "metadata": {},
   "outputs": [],
   "source": [
    "\n",
    "# M: number of edges, N: number of courses\n",
    "# time: O(M+N), worst case: O(N^2)\n",
    "# space: O(M+N)"
   ]
  }
 ],
 "metadata": {
  "language_info": {
   "name": "python"
  }
 },
 "nbformat": 4,
 "nbformat_minor": 2
}
