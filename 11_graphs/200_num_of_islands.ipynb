{
 "cells": [
  {
   "cell_type": "code",
   "execution_count": null,
   "metadata": {},
   "outputs": [],
   "source": [
    "# https://leetcode.com/problems/number-of-islands/"
   ]
  },
  {
   "cell_type": "code",
   "execution_count": null,
   "metadata": {},
   "outputs": [],
   "source": [
    "class Solution:\n",
    "    def numIslands(self, grid: List[List[str]]) -> int:\n",
    "        visited = set()  # set((r,c))\n",
    "        result = 0\n",
    "        ROW, COL = len(grid), len(grid[0])\n",
    "        \n",
    "        def explore(r, c):\n",
    "            if (\n",
    "                r < 0 or \n",
    "                r >= ROW or\n",
    "                c < 0 or\n",
    "                c >= COL or\n",
    "                (r,c) in visited or\n",
    "                grid[r][c] == \"0\"\n",
    "            ):\n",
    "                return\n",
    "            \n",
    "            visited.add((r,c))\n",
    "            \n",
    "            explore(r+1, c)\n",
    "            explore(r-1, c)\n",
    "            explore(r, c+1)\n",
    "            explore(r, c-1)\n",
    "            \n",
    "        \n",
    "        for r in range(ROW):\n",
    "            for c in range(COL):\n",
    "                if grid[r][c] == \"0\":\n",
    "                    continue\n",
    "                \n",
    "                if (r,c) not in visited:\n",
    "                    result += 1\n",
    "                    explore(r,c)\n",
    "        \n",
    "        return result\n",
    "    \n",
    "    # time: O(ROW * COL)\n",
    "    # space: O(ROW * COL)\n",
    "        \n",
    "        "
   ]
  }
 ],
 "metadata": {
  "language_info": {
   "name": "python"
  }
 },
 "nbformat": 4,
 "nbformat_minor": 2
}
