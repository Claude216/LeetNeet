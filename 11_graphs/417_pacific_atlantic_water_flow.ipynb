{
 "cells": [
  {
   "cell_type": "code",
   "execution_count": null,
   "metadata": {},
   "outputs": [],
   "source": [
    "# https://leetcode.com/problems/pacific-atlantic-water-flow/"
   ]
  },
  {
   "cell_type": "code",
   "execution_count": null,
   "metadata": {},
   "outputs": [],
   "source": [
    "class Solution:\n",
    "    def pacificAtlantic(self, heights: List[List[int]]) -> List[List[int]]:\n",
    "        pcf, atl = set(), set()\n",
    "        ROW, COL = len(heights), len(heights[0])\n",
    "        \n",
    "        def dfs(r,c, visited):\n",
    "            visited.add((r,c))\n",
    "            \n",
    "            for i, j in [(r+1,c), (r-1, c), (r, c+1), (r,c-1)]:\n",
    "                if (\n",
    "                    0 <= i and i < ROW and\n",
    "                    0 <= j and j < COL and \n",
    "                    heights[i][j] >= heights[r][c] and\n",
    "                    (i, j) not in visited\n",
    "                ):\n",
    "                    dfs(i, j, visited)\n",
    "                    \n",
    "        \n",
    "        for r in range(ROW):\n",
    "            dfs(r, 0, pcf)\n",
    "            dfs(r, COL-1, atl)\n",
    "            \n",
    "        for c in range(COL):\n",
    "            dfs(0, c, pcf)\n",
    "            dfs(ROW-1, c, atl)\n",
    "            \n",
    "        return list(pcf&atl)\n",
    "        \n",
    "        # Time: O(M*N)\n",
    "        # Space: O(M*N)) # M = # of rows, N = # of cols"
   ]
  },
  {
   "cell_type": "code",
   "execution_count": null,
   "metadata": {},
   "outputs": [],
   "source": []
  }
 ],
 "metadata": {
  "language_info": {
   "name": "python"
  }
 },
 "nbformat": 4,
 "nbformat_minor": 2
}
