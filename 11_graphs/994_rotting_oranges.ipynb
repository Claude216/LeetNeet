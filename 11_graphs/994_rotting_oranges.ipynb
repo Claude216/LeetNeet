{
 "cells": [
  {
   "cell_type": "code",
   "execution_count": null,
   "metadata": {},
   "outputs": [],
   "source": [
    "# https://leetcode.com/problems/rotting-oranges/"
   ]
  },
  {
   "cell_type": "code",
   "execution_count": null,
   "metadata": {},
   "outputs": [],
   "source": [
    "class Solution:\n",
    "    def orangesRotting(self, grid: List[List[int]]) -> int:\n",
    "        ROW, COL = len(grid), len(grid[0])\n",
    "        \n",
    "        fresh = 0\n",
    "        q = deque()\n",
    "        time = 0\n",
    "        \n",
    "        \n",
    "        for r in range(ROW):\n",
    "            for c in range(COL):\n",
    "                if grid[r][c] == 1:\n",
    "                    fresh += 1\n",
    "                if grid[r][c] == 2:\n",
    "                    q.append((r,c))\n",
    "\n",
    "                \n",
    "        while fresh > 0 and q:\n",
    "            length = len(q)\n",
    "            for i in range(length):\n",
    "                row, col = q.popleft()\n",
    "                for i,j in [[row+1, col], [row-1, col], [row, col+1], [row, col-1]]:\n",
    "                    if (\n",
    "                        i in range(ROW) and \n",
    "                        j in range(COL) and \n",
    "                        grid[i][j] == 1\n",
    "                    ):\n",
    "                        grid[i][j] = 2\n",
    "                        q.append((i,j))\n",
    "                        fresh -= 1  \n",
    "        \n",
    "            time += 1\n",
    "        return time if not fresh else -1"
   ]
  }
 ],
 "metadata": {
  "language_info": {
   "name": "python"
  }
 },
 "nbformat": 4,
 "nbformat_minor": 2
}
