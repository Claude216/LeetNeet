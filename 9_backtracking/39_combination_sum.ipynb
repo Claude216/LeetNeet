{
 "cells": [
  {
   "cell_type": "code",
   "execution_count": null,
   "metadata": {},
   "outputs": [],
   "source": [
    "# https://leetcode.com/problems/combination-sum/"
   ]
  },
  {
   "cell_type": "code",
   "execution_count": null,
   "metadata": {},
   "outputs": [],
   "source": [
    "class Solution:\n",
    "    def combinationSum(self, candidates: List[int], target: int) -> List[List[int]]:\n",
    "        res = []\n",
    "        \n",
    "        def dfs(i, comb, comb_sum):\n",
    "            if comb_sum == target: # if matches, add a new combination to the result\n",
    "                res.append(comb.copy())\n",
    "                return\n",
    "                \n",
    "            comb = comb.copy()\n",
    "            if i >= len(candidates) or comb_sum > target: # if exceeds the limitation/index, return immediately\n",
    "                return\n",
    "            \n",
    "            # choose to take the value at current position\n",
    "            comb.append(candidates[i])\n",
    "            dfs(i, comb, comb_sum+candidates[i])\n",
    "            \n",
    "            # choose to not take the value at current position\n",
    "            comb.pop()\n",
    "            dfs(i+1, comb, comb_sum)\n",
    "        dfs(0, [], 0)\n",
    "        return res\n",
    "                "
   ]
  }
 ],
 "metadata": {
  "language_info": {
   "name": "python"
  }
 },
 "nbformat": 4,
 "nbformat_minor": 2
}
