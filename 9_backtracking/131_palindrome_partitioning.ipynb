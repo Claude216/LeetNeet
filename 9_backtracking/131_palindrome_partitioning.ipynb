{
 "cells": [
  {
   "cell_type": "code",
   "execution_count": null,
   "metadata": {},
   "outputs": [],
   "source": [
    "# https://leetcode.com/problems/palindrome-partitioning/"
   ]
  },
  {
   "cell_type": "code",
   "execution_count": null,
   "metadata": {},
   "outputs": [],
   "source": [
    "class Solution:\n",
    "    def partition(self, s: str) -> List[List[str]]:\n",
    "        result = []\n",
    "        \n",
    "        def bt(process_str, temp_result):\n",
    "            # print(process_str)\n",
    "            if len(process_str) <= 0:\n",
    "                # print(\"oops\")\n",
    "                result.append(temp_result[:]) # remember to append a slice of the temp result rather than itself\n",
    "                return \n",
    "\n",
    "            for i in range(1, len(process_str)+1):\n",
    "                if self.isPalindrome(process_str[:i]):\n",
    "                    temp_result.append(process_str[:i])\n",
    "                    bt(process_str[i:], temp_result)\n",
    "                    # print(\"right half\", process_str[i:])\n",
    "                    temp_result.pop()\n",
    "            \n",
    "        bt(s, [])\n",
    "        return result\n",
    "            \n",
    "\n",
    "    \n",
    "    def isPalindrome(self, s: str) -> bool:\n",
    "        return s == s[::-1]\n",
    "    \n",
    "    # idea: every time we cut the processing str (not the original!) from a particular position and:\n",
    "    #       1. check whether the left half is a palindrome:\n",
    "    #           a. if so, processing the right half\n",
    "    #           b. if not, move the cut to next position\n",
    "    #       2. then once we reach the end of the original str (when the right half has a length of 0), \n",
    "    #           it means we find a possible palindrome partitioning of the oringinal str\n",
    "    #           so we append the \"slice\" of the current temp result to the final result (make a deep copy rather than a reference)"
   ]
  }
 ],
 "metadata": {
  "language_info": {
   "name": "python"
  }
 },
 "nbformat": 4,
 "nbformat_minor": 2
}
