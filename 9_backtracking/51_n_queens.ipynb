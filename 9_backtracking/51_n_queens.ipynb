{
 "cells": [
  {
   "cell_type": "code",
   "execution_count": null,
   "metadata": {},
   "outputs": [],
   "source": [
    "# https://leetcode.com/problems/n-queens/"
   ]
  },
  {
   "cell_type": "code",
   "execution_count": null,
   "metadata": {},
   "outputs": [],
   "source": [
    "class Solution:\n",
    "    def solveNQueens(self, n: int) -> List[List[str]]:\n",
    "        res = []\n",
    "        board = [[\".\" for _ in range(n)] for _ in range(n)]\n",
    "        po, na, col = set(), set(), set()\n",
    "        \n",
    "        def bt(r):\n",
    "            if r == n: # we reach the right margin of the board (out of board)\n",
    "                cp = [\"\".join(r) for r in board]\n",
    "                res.append(cp)\n",
    "                return\n",
    "            \n",
    "            for c in range(n):\n",
    "                # for each column in this row\n",
    "                if c in col or (r+c) in po or (r-c) in na:\n",
    "                    continue\n",
    "                    \n",
    "                col.add(c)\n",
    "                po.add(r+c)\n",
    "                na.add(r-c)\n",
    "                board[r][c] = \"Q\"\n",
    "                \n",
    "                bt(r+1)\n",
    "                \n",
    "                col.remove(c)\n",
    "                po.remove(r+c)\n",
    "                na.remove(r-c)\n",
    "                board[r][c] = \".\"\n",
    "                \n",
    "        bt(0)\n",
    "        return res"
   ]
  }
 ],
 "metadata": {
  "language_info": {
   "name": "python"
  }
 },
 "nbformat": 4,
 "nbformat_minor": 2
}
