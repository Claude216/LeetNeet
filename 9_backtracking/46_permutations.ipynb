{
 "cells": [
  {
   "cell_type": "code",
   "execution_count": null,
   "metadata": {},
   "outputs": [],
   "source": [
    "# https://leetcode.com/problems/permutations/"
   ]
  },
  {
   "cell_type": "code",
   "execution_count": null,
   "metadata": {},
   "outputs": [],
   "source": [
    "class Solution:\n",
    "    def permute(self, nums: List[int]) -> List[List[int]]:\n",
    "        res = []\n",
    "        \n",
    "        if len(nums) == 1: # if there's only one element in the list, return the list\n",
    "            return [nums[:]]\n",
    "        for i in range(len(nums)):\n",
    "            n = nums.pop(0) # take the current entry out of the list \n",
    "            perms = self.permute(nums) # do permutation on the popped list\n",
    "            \n",
    "            for perm in perms:\n",
    "                perm.append(n) # add current entry to the end of each permutation we have on the popped list\n",
    "            res.extend(perms) # add the permutation we have to result\n",
    "            nums.append(n) # append the current value back\n",
    "        return res\n",
    "            "
   ]
  }
 ],
 "metadata": {
  "language_info": {
   "name": "python"
  }
 },
 "nbformat": 4,
 "nbformat_minor": 2
}
