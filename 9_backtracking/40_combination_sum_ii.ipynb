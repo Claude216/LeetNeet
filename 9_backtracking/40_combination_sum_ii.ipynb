{
 "cells": [
  {
   "cell_type": "code",
   "execution_count": null,
   "metadata": {},
   "outputs": [],
   "source": [
    "# https://leetcode.com/problems/combination-sum-ii/"
   ]
  },
  {
   "cell_type": "code",
   "execution_count": null,
   "metadata": {},
   "outputs": [],
   "source": [
    "class Solution:\n",
    "    def combinationSum2(self, candidates: List[int], target: int) -> List[List[int]]:\n",
    "        res = []\n",
    "        candidates.sort() # nlogn, sort the candidates for avoiding dup\n",
    "        \n",
    "        def bt(i, temp, curr_sum):\n",
    "            if curr_sum == target:\n",
    "                res.append(temp[:]) # add the slice of the list to result rather than\n",
    "                                    # this list as the content of temp might change\n",
    "                return # as adding an extra int will absolutely exceeds the target\n",
    "            if curr_sum > target:\n",
    "                return # already exceeds target\n",
    "            \n",
    "            \n",
    "            # to avoid dup\n",
    "            # track the last used candidate and skip to the next unique one\n",
    "            prev = -1 # as all the candidates are int and larger than 0\n",
    "                      # otherwise, using float(\"(-)inf\")\n",
    "            \n",
    "            # now, do backtrack on every incoming element\n",
    "            for j in range(i, len(candidates)): # from i to end of candidates \n",
    "                if candidates[j] == prev:\n",
    "                    # if we've tried this candidate\n",
    "                    # skip\n",
    "                    continue\n",
    "                    \n",
    "                temp.append(candidates[j])\n",
    "                bt(j+1, temp, curr_sum + candidates[j])\n",
    "                temp.pop() # pop the candidate we just added to keep the original content of temp\n",
    "                prev = candidates[j] # update prev/ mark this candidate as \"used/visited\"\n",
    "            \n",
    "        bt(0, [], 0) # n^2\n",
    "        return res  \n",
    "    \n",
    "    \n",
    "    # time: n^(n+1): worst case: all cand are unique ===> n^n times n bt() call (n cands in total)\n",
    "    # space: 2^n: worst case: all combination can sum up to target "
   ]
  }
 ],
 "metadata": {
  "language_info": {
   "name": "python"
  }
 },
 "nbformat": 4,
 "nbformat_minor": 2
}
