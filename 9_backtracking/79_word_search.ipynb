{
 "cells": [
  {
   "cell_type": "code",
   "execution_count": null,
   "metadata": {},
   "outputs": [],
   "source": [
    "# https://leetcode.com/problems/word-search/"
   ]
  },
  {
   "cell_type": "code",
   "execution_count": null,
   "metadata": {},
   "outputs": [],
   "source": [
    "class Solution:\n",
    "    def exist(self, board: List[List[str]], word: str) -> bool:\n",
    "        ROW = len(board)\n",
    "        COL = len(board[0])\n",
    "        \n",
    "        visited = [[False for _ in range(COL)] for _ in range(ROW)]\n",
    "        \n",
    "        def bt(mark_table, curr_str, target, r, c):\n",
    "            if (\n",
    "                r >= ROW or\n",
    "                c >= COL or\n",
    "                r < 0 or\n",
    "                c < 0 or\n",
    "                mark_table[r][c] or\n",
    "                len(curr_str) > len(target)\n",
    "            ):\n",
    "                return False\n",
    "            \n",
    "            if len(curr_str) < len(word) and board[r][c] != word[len(curr_str)]:\n",
    "                return False # greedy, we only care whether the current choice fits the corresponding character in the target word\n",
    "            \n",
    "            mark_table[r][c] = True\n",
    "            curr_str += board[r][c]\n",
    "            \n",
    "            if curr_str == target:\n",
    "                return True\n",
    "            \n",
    "            result = (\n",
    "                bt(mark_table, curr_str, target, r+1, c) or\n",
    "                bt(mark_table, curr_str, target, r-1, c) or\n",
    "                bt(mark_table, curr_str, target, r, c+1) or\n",
    "                bt(mark_table, curr_str, target, r, c-1)\n",
    "            )\n",
    "            \n",
    "            mark_table[r][c] = False # reset the visited table\n",
    "            return result\n",
    "            \n",
    "            \n",
    "        res = False\n",
    "        for r in range(ROW):\n",
    "            for c in range(COL):\n",
    "                if board[r][c] == word[0]:      \n",
    "                    res = res or bt(visited, \"\", word, r, c)\n",
    "                    # if res:\n",
    "                    #     return res\n",
    "                # visited[r][c] = False\n",
    "        return res\n",
    "            "
   ]
  }
 ],
 "metadata": {
  "language_info": {
   "name": "python"
  }
 },
 "nbformat": 4,
 "nbformat_minor": 2
}
