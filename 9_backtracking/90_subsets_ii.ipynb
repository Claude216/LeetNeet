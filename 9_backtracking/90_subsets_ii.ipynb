{
 "cells": [
  {
   "cell_type": "code",
   "execution_count": null,
   "metadata": {},
   "outputs": [],
   "source": [
    "# https://leetcode.com/problems/subsets-ii/"
   ]
  },
  {
   "cell_type": "code",
   "execution_count": null,
   "metadata": {},
   "outputs": [],
   "source": [
    "class Solution:\n",
    "    def subsetsWithDup(self, nums: List[int]) -> List[List[int]]:\n",
    "        res = []\n",
    "        nums.sort()\n",
    "        \n",
    "        def bt(i, temp):\n",
    "            if i == len(nums): # we already reach the end of the list nums\n",
    "                res.append(temp[:]) # add the current temp subset to result\n",
    "                return\n",
    "            \n",
    "            temp.append(nums[i]) # otherwise, add the num at current position\n",
    "            bt(i+1, temp)\n",
    "            temp.pop()\n",
    "            \n",
    "            while i+1 < len(nums) and nums[i] == nums[i+1]:\n",
    "                i+= 1 # skip those same values\n",
    "                \n",
    "            bt(i+1, temp)\n",
    "            \n",
    "        bt(0, [])\n",
    "        \n",
    "        return res"
   ]
  }
 ],
 "metadata": {
  "kernelspec": {
   "display_name": "Python 3",
   "language": "python",
   "name": "python3"
  },
  "language_info": {
   "codemirror_mode": {
    "name": "ipython",
    "version": 3
   },
   "file_extension": ".py",
   "mimetype": "text/x-python",
   "name": "python",
   "nbconvert_exporter": "python",
   "pygments_lexer": "ipython3",
   "version": "3.11.6"
  }
 },
 "nbformat": 4,
 "nbformat_minor": 2
}
